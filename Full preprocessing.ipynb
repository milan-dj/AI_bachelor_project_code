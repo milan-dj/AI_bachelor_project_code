{
 "cells": [
  {
   "cell_type": "markdown",
   "id": "68bc6340",
   "metadata": {},
   "source": [
    "# Pre-processing"
   ]
  },
  {
   "cell_type": "code",
   "execution_count": 1,
   "id": "684b8ec7",
   "metadata": {},
   "outputs": [],
   "source": [
    "import os\n",
    "import glob\n",
    "import pandas as pd"
   ]
  },
  {
   "cell_type": "code",
   "execution_count": 2,
   "id": "987ccf43",
   "metadata": {},
   "outputs": [
    {
     "name": "stdout",
     "output_type": "stream",
     "text": [
      "/Users/milandj/Desktop/Fectar_code\n",
      "3D-Plots.ipynb                        data_preperation.py\n",
      "All plots 4.ipynb                     download.png\n",
      "DBSCAN.ipynb                          \u001b[34menv\u001b[m\u001b[m\n",
      "Dimensional reduction.ipynb           figure.png\n",
      "Full preprocessing.ipynb              \u001b[34mfigures\u001b[m\u001b[m\n",
      "Full_Code Planeten-attractors 2.ipynb functions.ipynb\n",
      "\u001b[34mHeatmaps\u001b[m\u001b[m                              image.png\n",
      "\u001b[34mKoenigsEgg\u001b[m\u001b[m                            \u001b[34mkde2d\u001b[m\u001b[m\n",
      "\u001b[34mKoenigsEggOneOne\u001b[m\u001b[m                      kde2d.zip\n",
      "MEAN-STD-AVG.ipynb                    koenigsegg.png\n",
      "\u001b[34mNoire_Data\u001b[m\u001b[m                            newplotattractors.png\n",
      "OriginalPLanetsplot.png               originalplotfromabove.png\n",
      "Plots_planeten_directors.ipynb        pairplot.png\n",
      "Screenshot 2021-05-16 at 00.08.30.png pandas-anatomy-of-a-dataframe.png\n",
      "Screenshot 2021-05-16 at 00.08.39.png planets_screenshot.png\n",
      "Screenshot 2021-05-20 at 15.18.35.png planetsdirectorplot.png\n",
      "Screenshot 2021-05-24 at 16.48.47.png prep.py\n",
      "Screenshot 2021-05-25 at 14.10.23.png preprocess-AR-view.ipynb\n",
      "Screenshot 2021-05-25 at 14.29.31.png preprocess-zonder3Dview.ipynb\n",
      "Screenshot 2021-05-25 at 14.44.30.png preprocess.ipynb\n",
      "Screenshot 2021-05-25 at 14.44.46.png pyplot-table-original.png\n",
      "Screenshot 2021-05-25 at 14.45.22.png teste.pdf\n",
      "attractorsplotabove.png\n"
     ]
    }
   ],
   "source": [
    "!pwd\n",
    "!ls"
   ]
  },
  {
   "cell_type": "code",
   "execution_count": 3,
   "id": "4d70876f",
   "metadata": {},
   "outputs": [],
   "source": [
    "os.chdir(\"/Users/milandj/Desktop/Fectar_code/Heatmaps/Planeten_new\")"
   ]
  },
  {
   "cell_type": "code",
   "execution_count": 4,
   "id": "89f8a406",
   "metadata": {},
   "outputs": [],
   "source": [
    "file_extension= \".csv\""
   ]
  },
  {
   "cell_type": "code",
   "execution_count": 5,
   "id": "d2479e00",
   "metadata": {},
   "outputs": [],
   "source": [
    "all_files = [f for f in glob.glob(f\"*{file_extension}\")]"
   ]
  },
  {
   "cell_type": "code",
   "execution_count": 6,
   "id": "8fae1b65",
   "metadata": {},
   "outputs": [],
   "source": [
    "import matplotlib.pyplot as plt\n",
    "import numpy as np\n",
    "merged = []\n",
    "\n",
    "for file in all_files: \n",
    "    #read the csv file\n",
    "    df= pd.read_csv(file, delimiter=',', header=None, skiprows=1, names=['time', 'data'])\n",
    "    #drop the unnecessary 9 rows\n",
    "    df = df.drop([0,1,3,4,5,6,7,8,9], axis=0)\n",
    "    names = ['x', 'y', 'z','4','5','6']\n",
    "    exploded = (\n",
    "        df['data'].str.split(',', expand=True, n=len(names)-1)\n",
    "        .rename(columns={k: name for k, name in enumerate(names)}))\n",
    "    result = df.join(exploded)\n",
    "    df = result\n",
    "    # Only gather the data of sessions that were viewed in AR \n",
    "    if df['data'].iloc[0] == 'AR':\n",
    "        df.dropna(axis = 0, how = 'any', inplace = True)\n",
    "        merged.append(df)\n",
    "        result = pd.concat(merged)\n",
    "        result.to_csv(\"/Users/milandj/Desktop/Fectar_code/Heatmaps/Planeten_new/combined_csv.csv\")\n",
    "\n",
    "\n"
   ]
  },
  {
   "cell_type": "code",
   "execution_count": null,
   "id": "a896bd54",
   "metadata": {},
   "outputs": [],
   "source": []
  }
 ],
 "metadata": {
  "kernelspec": {
   "display_name": "Python 3",
   "language": "python",
   "name": "python3"
  },
  "language_info": {
   "codemirror_mode": {
    "name": "ipython",
    "version": 3
   },
   "file_extension": ".py",
   "mimetype": "text/x-python",
   "name": "python",
   "nbconvert_exporter": "python",
   "pygments_lexer": "ipython3",
   "version": "3.9.1"
  }
 },
 "nbformat": 4,
 "nbformat_minor": 5
}
